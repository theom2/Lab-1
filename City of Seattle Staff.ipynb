{
 "cells": [
  {
   "cell_type": "markdown",
   "metadata": {},
   "source": [
    "# City of Seattle Staff Age and Wage Data"
   ]
  },
  {
   "cell_type": "markdown",
   "metadata": {},
   "source": [
    "In this lab we will be analyzing City of Seattle data on the age and wage of city employees. We will be asking:\n",
    "1. What the mean wage is?\n",
    "2. What the median wage is?\n",
    "3. What the minimum wage is?\n",
    "4. What the maximum wage is?\n",
    "5. What the mode of the wage data is?\n",
    "6. What the mean age is?\n",
    "7. What the median age is?\n",
    "8. What the minimum age is?\n",
    "9. What the maximum age is?\n",
    "10. What the mode of the aage data is?"
   ]
  },
  {
   "cell_type": "markdown",
   "metadata": {},
   "source": [
    "### Data Set Preparation"
   ]
  },
  {
   "cell_type": "code",
   "execution_count": 1,
   "metadata": {},
   "outputs": [],
   "source": [
    "from scipy import stats;\n",
    "import math;"
   ]
  },
  {
   "cell_type": "code",
   "execution_count": 2,
   "metadata": {},
   "outputs": [],
   "source": [
    "data_file = open(\"City_of_Seattle_Staff_Demographics.csv\", \"r\");\n",
    "staff_list = [];\n",
    "for row in data_file:\n",
    "    staff_list.append(row);\n",
    "data_file.close();"
   ]
  },
  {
   "cell_type": "markdown",
   "metadata": {},
   "source": [
    "Here I opened the file and read the file into a list of data."
   ]
  },
  {
   "cell_type": "code",
   "execution_count": 3,
   "metadata": {},
   "outputs": [],
   "source": [
    "del staff_list[0];"
   ]
  },
  {
   "cell_type": "markdown",
   "metadata": {},
   "source": [
    "Here I deleted the header of the data, so that the data file only consists of data."
   ]
  },
  {
   "cell_type": "code",
   "execution_count": 4,
   "metadata": {},
   "outputs": [
    {
     "name": "stdout",
     "output_type": "stream",
     "text": [
      "[57, 39, 52, 30, 34, 37, 65, 29, 65, 48]\n",
      "[29.75, 27.18, 59.75, 38.28, 53.87, 47.98, 48.04, 33.45, 49.32, 45.734]\n"
     ]
    }
   ],
   "source": [
    "age = [];\n",
    "wage = [];    \n",
    "for item in range(len(staff_list)):\n",
    "    #make into a list of lists of just numbers\n",
    "    staff_list[item] = staff_list[item].split(\",\")\n",
    "    \n",
    "    #add data to specific lists for west and east\n",
    "    age.append(int(staff_list[item][3]))\n",
    "    wage.append(float(staff_list[item][4]))\n",
    "\n",
    "print(age[:10])\n",
    "print(wage[:10])"
   ]
  },
  {
   "cell_type": "markdown",
   "metadata": {},
   "source": [
    "Here I created two lists, wage and age, and then sorted the data into the two lists (one of integers and one of floats), which I then print the first 10 numbers of to confirm whether or not the lists have the correct Data."
   ]
  },
  {
   "cell_type": "markdown",
   "metadata": {},
   "source": [
    "### Data Modeling"
   ]
  },
  {
   "cell_type": "code",
   "execution_count": 5,
   "metadata": {},
   "outputs": [
    {
     "name": "stdout",
     "output_type": "stream",
     "text": [
      "The youngest employee is 14\n",
      "The oldest employee is 92\n"
     ]
    }
   ],
   "source": [
    "minA = min(age)\n",
    "maxA = max(age)\n",
    "indexMinA = age.index(minA)\n",
    "indexMaxA = age.index(maxA)\n",
    "print(\"The youngest employee is \" + str(minA))\n",
    "print(\"The oldest employee is \" + str(maxA))"
   ]
  },
  {
   "cell_type": "markdown",
   "metadata": {},
   "source": [
    "Here I find the minimum and maximum age before finding their indexes and then printing them."
   ]
  },
  {
   "cell_type": "code",
   "execution_count": 6,
   "metadata": {},
   "outputs": [
    {
     "name": "stdout",
     "output_type": "stream",
     "text": [
      "The median age is 45.0\n"
     ]
    }
   ],
   "source": [
    "age.sort();  # sort the list. It's that easy\n",
    "halfwayPoint = math.floor(len(age)/2);\n",
    "\n",
    "if (len(age) % 2) == 0: \n",
    "    medianA = (age[halfwayPoint] + age[halfwayPoint-1])/2;\n",
    "else: # the halfway point is an odd number, so the median is the middle number\n",
    "    medianA = age[halfwayPoint];\n",
    "print(\"The median age is \" + str(round(medianA,1)))"
   ]
  },
  {
   "cell_type": "markdown",
   "metadata": {},
   "source": [
    "Here I calculate the median age by sorting the ages and then finding the halfway point between the minimum and maximum. I then print the median."
   ]
  },
  {
   "cell_type": "code",
   "execution_count": 7,
   "metadata": {},
   "outputs": [
    {
     "name": "stdout",
     "output_type": "stream",
     "text": [
      "The mean age is 44.534\n"
     ]
    }
   ],
   "source": [
    "totalA = 0\n",
    "for a in age:\n",
    "    totalA = totalA + a\n",
    "averageA = totalA/len(age)\n",
    "print(\"The mean age is \" + str(round(averageA,3)))"
   ]
  },
  {
   "cell_type": "markdown",
   "metadata": {},
   "source": [
    "Here I calculate the mean age by finding the total through a for loop before dividing it by the length and then printing it."
   ]
  },
  {
   "cell_type": "code",
   "execution_count": 8,
   "metadata": {},
   "outputs": [
    {
     "name": "stdout",
     "output_type": "stream",
     "text": [
      "ModeResult(mode=array([48]), count=array([412]))\n"
     ]
    }
   ],
   "source": [
    "modeA = stats.mode(age)\n",
    "print(modeA)"
   ]
  },
  {
   "cell_type": "markdown",
   "metadata": {},
   "source": [
    "Finding and printing the mode of the ages by using the stats library."
   ]
  },
  {
   "cell_type": "code",
   "execution_count": 9,
   "metadata": {},
   "outputs": [
    {
     "name": "stdout",
     "output_type": "stream",
     "text": [
      "16.0\n"
     ]
    }
   ],
   "source": [
    "print(wage[indexMinA])"
   ]
  },
  {
   "cell_type": "markdown",
   "metadata": {},
   "source": [
    "Finding and then printing the wage made by the youngest employee."
   ]
  },
  {
   "cell_type": "code",
   "execution_count": 10,
   "metadata": {},
   "outputs": [],
   "source": [
    "minW = min(wage)\n",
    "maxW = max(wage)"
   ]
  },
  {
   "cell_type": "markdown",
   "metadata": {},
   "source": [
    "Finding the minimum and maximum wages. "
   ]
  },
  {
   "cell_type": "code",
   "execution_count": 11,
   "metadata": {},
   "outputs": [
    {
     "name": "stdout",
     "output_type": "stream",
     "text": [
      "The median wage is 39.0\n"
     ]
    }
   ],
   "source": [
    "wage.sort();  # sort the list.\n",
    "halfwayPoint = math.floor(len(wage)/2);\n",
    "if (len(wage) % 2) == 0: \n",
    "    medianW = (wage[halfwayPoint] + wage[halfwayPoint-1])/2;\n",
    "else: # the halfway point is an odd number, so the median is the middle number\n",
    "    medianW = wage[halfwayPoint];\n",
    "print(\"The median wage is \" + str(round(medianW, 1)))"
   ]
  },
  {
   "cell_type": "markdown",
   "metadata": {},
   "source": [
    "Finding the median wage by sorting the data and finding the midpoint, this is different for lists with an even length than it is with an odd length. I account for both."
   ]
  },
  {
   "cell_type": "code",
   "execution_count": 12,
   "metadata": {},
   "outputs": [
    {
     "name": "stdout",
     "output_type": "stream",
     "text": [
      "The mean wage is 40.034\n"
     ]
    }
   ],
   "source": [
    "totalW = 0.0\n",
    "for w in wage:\n",
    "    totalW = totalW + w\n",
    "averageW = totalW/len(wage)\n",
    "print(\"The mean wage is \" + str(round(averageW,3)))"
   ]
  },
  {
   "cell_type": "markdown",
   "metadata": {},
   "source": [
    "I find the mean wage by adding up all of the wages and then dividing by the number of wage data points."
   ]
  },
  {
   "cell_type": "code",
   "execution_count": 13,
   "metadata": {},
   "outputs": [
    {
     "name": "stdout",
     "output_type": "stream",
     "text": [
      "The Minimum wage is 5.53\n",
      "The Maximum wage is 162.84\n"
     ]
    }
   ],
   "source": [
    "print(\"The Minimum wage is \" + str(round(minW,2)))\n",
    "print(\"The Maximum wage is \" + str(round(maxW,2)))"
   ]
  },
  {
   "cell_type": "markdown",
   "metadata": {},
   "source": [
    "Printing the minimum and maximum wages."
   ]
  },
  {
   "cell_type": "code",
   "execution_count": 14,
   "metadata": {},
   "outputs": [
    {
     "name": "stdout",
     "output_type": "stream",
     "text": [
      "ModeResult(mode=array([16.11]), count=array([423]))\n"
     ]
    }
   ],
   "source": [
    "modeW = stats.mode(wage)\n",
    "print(modeW)"
   ]
  },
  {
   "cell_type": "markdown",
   "metadata": {},
   "source": [
    "Finding and then printing the mode of the data through the stats library."
   ]
  },
  {
   "cell_type": "markdown",
   "metadata": {},
   "source": [
    "### Analysis"
   ]
  },
  {
   "cell_type": "markdown",
   "metadata": {},
   "source": [
    "The most common salary for a seattle city employee is close to the smallest wage. This number is only slightly higher than the city's legal minimum wage of $15.00 an hour. It is likely that the majority of these 16-year-olds are paid high school interns, working for either Seattle City Light or other city sectors"
   ]
  },
  {
   "cell_type": "markdown",
   "metadata": {},
   "source": [
    "I was surprised by a fourteen-year-old being on the city's pay roll. The fourteen-year-old is being paid 16.00 dollars. This is the lowest amount a seattle city employee was paid. However, she was not the only employee making 16.00 dollars as it is the most common salary for an employee. Given age, it is unlikely that she would be employeed as a high school intern as that has a mandatory age requirement of at least 16 years of age. Looking at the data, I was able to find out that she worked at the Seattle Public Library. "
   ]
  },
  {
   "cell_type": "markdown",
   "metadata": {},
   "source": [
    "We found that the mean age was around 44.5 years with a median of 45. When the mean is this close to the median, it means there is very little skew to the data. Additionally, the minimum age is 14 with the maximum being 92, making the right tail slightly longer if it were a box and whisker plot. The mode of the data is 48 years, with 412 city employees being 48 years of age. this means that although 45 years is the median, it is not the peak. "
   ]
  },
  {
   "cell_type": "markdown",
   "metadata": {},
   "source": [
    "For wage, the mean was 40 dollars an hour, close to the median of 39. We can expect very little skew in this data. the mode however was around 16.1 dollars an hour with 423 employees making 16 dollars an hour. This mode is very close to the minimum wage of 16.0 dollars an hour. The maximum wage paid by the city, however, was 162.8 dollars an hour."
   ]
  },
  {
   "cell_type": "markdown",
   "metadata": {},
   "source": [
    "### Conclusion"
   ]
  },
  {
   "cell_type": "markdown",
   "metadata": {},
   "source": [
    "City employees have an average income that is above the national average of 27.16 dollars. However, a large amount of city employees are paid below this average with the most common wage being 16.00 dollars an hour. \n",
    "The city does offer internships and jobs to highschoolers which is important especially given the resume opportunities this can present."
   ]
  },
  {
   "cell_type": "markdown",
   "metadata": {},
   "source": [
    "### Acknowledgements"
   ]
  },
  {
   "cell_type": "markdown",
   "metadata": {},
   "source": [
    "Many thanks to Navya Mangipudi and Ms. Sconyers for their much appreciated help.\n",
    "Additional thanks to Geeks2Geeks.com for reminding me of the round function in Python.\n",
    "Additional thanks to Ms. Sconyers for providing me with code.\n",
    "Additional thanks to Scott for providing me with much needed emotional encouragement.\n",
    "Additional thanks to the Megan Elliot from CheatSheet for providing information on average wages in the US."
   ]
  },
  {
   "cell_type": "code",
   "execution_count": null,
   "metadata": {},
   "outputs": [],
   "source": []
  }
 ],
 "metadata": {
  "kernelspec": {
   "display_name": "Python 3",
   "language": "python",
   "name": "python3"
  },
  "language_info": {
   "codemirror_mode": {
    "name": "ipython",
    "version": 3
   },
   "file_extension": ".py",
   "mimetype": "text/x-python",
   "name": "python",
   "nbconvert_exporter": "python",
   "pygments_lexer": "ipython3",
   "version": "3.7.3"
  }
 },
 "nbformat": 4,
 "nbformat_minor": 2
}
